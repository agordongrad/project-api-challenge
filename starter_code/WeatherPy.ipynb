{
 "cells": [
  {
   "cell_type": "markdown",
   "metadata": {},
   "source": [
    "# WeatherPy\n",
    "----\n",
    "\n",
    "#### Note\n",
    "* Instructions have been included for each segment. You do not have to follow them exactly, but they are included to help you think through the steps."
   ]
  },
  {
   "cell_type": "code",
   "execution_count": 2,
   "metadata": {
    "scrolled": true
   },
   "outputs": [],
   "source": [
    "#Dependencies and Setup\n",
    "import matplotlib.pyplot as plt\n",
    "import pandas as pd\n",
    "import numpy as np\n",
    "import requests\n",
    "import time\n",
    "from scipy.stats import linregress\n",
    "\n",
    "# Import API key\n",
    "from api_keys import api_key\n",
    "\n",
    "# Incorporated citipy to determine city based on latitude and longitude\n",
    "from citipy import citipy\n",
    "\n",
    "# Output File (CSV)\n",
    "output_data_file = \"output_data/cities.csv\"\n",
    "\n",
    "# Range of latitudes and longitudes\n",
    "lat_range = (-90, 90)\n",
    "lng_range = (-180, 180)"
   ]
  },
  {
   "cell_type": "markdown",
   "metadata": {},
   "source": [
    "## Generate Cities List"
   ]
  },
  {
   "cell_type": "code",
   "execution_count": 3,
   "metadata": {},
   "outputs": [
    {
     "data": {
      "text/plain": [
       "652"
      ]
     },
     "execution_count": 3,
     "metadata": {},
     "output_type": "execute_result"
    }
   ],
   "source": [
    "# List for holding lat_lngs and cities\n",
    "\n",
    "lat_lngs = []\n",
    "cities = []\n",
    "\n",
    "# Create a set of random lat and lng combinations\n",
    "lats = np.random.uniform(low=-90.000, high=90.000, size=1500)\n",
    "lngs = np.random.uniform(low=-180.000, high=180.000, size=1500)\n",
    "lat_lngs = zip(lats, lngs)\n",
    "\n",
    "# Identify nearest city for each lat, lng combination\n",
    "for lat_lng in lat_lngs:\n",
    "    city = citipy.nearest_city(lat_lng[0], lat_lng[1]).city_name\n",
    "    city = city.replace(\" \", \"%20\")\n",
    "    # If the city is unique, then add it to a our cities list\n",
    "    if city not in cities:\n",
    "        \n",
    "        cities.append(city)\n",
    "\n",
    "# Print the city count to confirm sufficient count\n",
    "len(cities)"
   ]
  },
  {
   "cell_type": "markdown",
   "metadata": {},
   "source": [
    "### Perform API Calls\n",
    "* Perform a weather check on each city using a series of successive API calls.\n",
    "* Include a print log of each city as it'sbeing processed (with the city number and city name).\n"
   ]
  },
  {
   "cell_type": "code",
   "execution_count": 4,
   "metadata": {},
   "outputs": [
    {
     "data": {
      "text/plain": [
       "'http://api.openweathermap.org/data/2.5/weather?appid=f14e04983804941f43212011d628db49&q=kutum&units=Imperial'"
      ]
     },
     "execution_count": 4,
     "metadata": {},
     "output_type": "execute_result"
    }
   ],
   "source": [
    "#Name url and extract data\n",
    "url = f\"http://api.openweathermap.org/data/2.5/weather?appid={api_key}&q={city}&units=Imperial\"\n",
    "url"
   ]
  },
  {
   "cell_type": "code",
   "execution_count": 5,
   "metadata": {},
   "outputs": [
    {
     "name": "stdout",
     "output_type": "stream",
     "text": [
      "Processing Record 1 | Sao Filipe\n",
      "Processing Record 2 | Puerto Ayora\n",
      "Processing Record 3 | Preeceville\n",
      "Processing Record 4 | San Isidro\n",
      "Processing Record 5 | Punta Arenas\n",
      "Processing Record 6 | Mahebourg\n",
      "Processing Record 7 | Avarua\n",
      "Processing Record 8 | Chui\n",
      "Processing Record 9 | Cape Town\n",
      "Processing Record 10 | Bluff\n",
      "Processing Record 11 | Port Elizabeth\n",
      "Processing Record 12 | Mackay\n",
      "Processing Record 13 | Yellowknife\n",
      "Processing Record 14 | Vao\n",
      "Processing Record 15 | Atuona\n",
      "Processing Record 16 | Sitka\n",
      "Processing Record 17 | Novouzensk\n",
      "Processing Record 18 | Motomachi\n",
      "Processing Record 19 | Lata\n",
      "Processing Record 20 | Guaruja\n",
      "No City\n",
      "{'cod': '404', 'message': 'city not found'}\n",
      "Processing Record 21 | Hermanus\n",
      "Processing Record 22 | Jamestown\n",
      "Processing Record 23 | Cururupu\n",
      "Processing Record 24 | Altay\n",
      "Processing Record 25 | Ulcinj\n",
      "Processing Record 26 | Ushuaia\n",
      "Processing Record 27 | Shingu\n",
      "Processing Record 28 | Uvira\n",
      "Processing Record 29 | Riyadh\n",
      "Processing Record 30 | Hobart\n",
      "Processing Record 31 | Umm Kaddadah\n",
      "Processing Record 32 | Bilma\n",
      "Processing Record 33 | Bandarbeyla\n",
      "No City\n",
      "{'cod': '404', 'message': 'city not found'}\n",
      "Processing Record 34 | Acapulco de Juarez\n",
      "Processing Record 35 | Pacific Grove\n",
      "Processing Record 36 | Zhigansk\n",
      "Processing Record 37 | Fortuna\n",
      "Processing Record 38 | New Norfolk\n",
      "Processing Record 39 | Arraial do Cabo\n",
      "Processing Record 40 | Le Portel\n",
      "Processing Record 41 | Sinnamary\n",
      "Processing Record 42 | Kapaa\n",
      "No City\n",
      "{'cod': '404', 'message': 'city not found'}\n",
      "Processing Record 43 | Butaritari\n",
      "No City\n",
      "{'cod': '404', 'message': 'city not found'}\n",
      "Processing Record 44 | Clyde River\n",
      "Processing Record 45 | Kloulklubed\n",
      "Processing Record 46 | Port Alfred\n",
      "Processing Record 47 | Kiryat Gat\n",
      "Processing Record 48 | San Juan de Uraba\n",
      "Processing Record 49 | Hong Kong\n",
      "Processing Record 50 | Cayenne\n",
      "Processing Record 51 | Turbat\n",
      "Processing Record 52 | Barrow\n",
      "Processing Record 53 | Japura\n",
      "Processing Record 54 | Nurmijaervi\n",
      "Processing Record 55 | Tasiilaq\n",
      "Processing Record 56 | Kenai\n",
      "Processing Record 57 | Cap Malheureux\n",
      "Processing Record 58 | Townsville\n",
      "Processing Record 59 | Guerrero Negro\n",
      "Processing Record 60 | Quijingue\n",
      "Processing Record 61 | Lagoa\n",
      "Processing Record 62 | Albany\n",
      "Processing Record 63 | Rikitea\n",
      "Processing Record 64 | Luanda\n",
      "No City\n",
      "{'cod': '404', 'message': 'city not found'}\n",
      "Processing Record 65 | Ihosy\n",
      "Processing Record 66 | Rawson\n",
      "Processing Record 67 | Udachny\n",
      "Processing Record 68 | Bathsheba\n",
      "Processing Record 69 | Mataura\n",
      "Processing Record 70 | Zharkent\n",
      "Processing Record 71 | Cherskiy\n",
      "Processing Record 72 | Hithadhoo\n",
      "Processing Record 73 | Vaini\n",
      "Processing Record 74 | Jinxiang\n",
      "Processing Record 75 | Caceres\n",
      "Processing Record 76 | Sarkand\n",
      "Processing Record 77 | Pisco\n",
      "Processing Record 78 | Mnogovershinnyy\n",
      "Processing Record 79 | Namatanai\n",
      "Processing Record 80 | Leningradskiy\n",
      "Processing Record 81 | Kaoma\n",
      "Processing Record 82 | Sirte\n",
      "Processing Record 83 | Te Anau\n",
      "No City\n",
      "{'cod': '404', 'message': 'city not found'}\n",
      "Processing Record 84 | Codrington\n",
      "Processing Record 85 | Kodiak\n",
      "Processing Record 86 | Bam\n",
      "Processing Record 87 | Busselton\n",
      "Processing Record 88 | Isangel\n",
      "Processing Record 89 | Dikson\n",
      "Processing Record 90 | Marawi\n",
      "Processing Record 91 | Dolores\n",
      "Processing Record 92 | Husavik\n",
      "Processing Record 93 | Shaoyang\n",
      "Processing Record 94 | Maltahohe\n",
      "Processing Record 95 | Bredasdorp\n",
      "Processing Record 96 | Sakakah\n",
      "Processing Record 97 | Tazovsky\n",
      "Processing Record 98 | Nuuk\n",
      "Processing Record 99 | Thompson\n",
      "Processing Record 100 | Los Llanos de Aridane\n",
      "Processing Record 101 | Ust'-Ilimsk\n",
      "Processing Record 102 | Chokurdakh\n",
      "Processing Record 103 | Taitung City\n",
      "Processing Record 104 | Kahului\n",
      "Processing Record 105 | Tiksi\n",
      "Processing Record 106 | Belyy Yar\n",
      "Processing Record 107 | East London\n",
      "Processing Record 108 | Monastiraki\n",
      "Processing Record 109 | Talnakh\n",
      "Processing Record 110 | Mitsamiouli\n",
      "Processing Record 111 | Carbonia\n",
      "Processing Record 112 | Pimentel\n",
      "Processing Record 113 | George Town\n",
      "Processing Record 114 | Nara\n",
      "Processing Record 115 | Kieta\n",
      "Processing Record 116 | Havelock\n",
      "Processing Record 117 | Gua Musang\n",
      "Processing Record 118 | Berlevag\n",
      "Processing Record 119 | Nikolskoye\n",
      "Processing Record 120 | Xinyu\n",
      "Processing Record 121 | Hofn\n",
      "Processing Record 122 | Airai\n",
      "Processing Record 123 | Norman Wells\n",
      "Processing Record 124 | Bubaque\n",
      "Processing Record 125 | Mahbubabad\n",
      "Processing Record 126 | Ilek\n",
      "Processing Record 127 | Poum\n",
      "Processing Record 128 | Litovko\n",
      "Processing Record 129 | Hokitika\n",
      "Processing Record 130 | Fare\n",
      "Processing Record 131 | Raja\n",
      "Processing Record 132 | Teya\n",
      "Processing Record 133 | Elko\n",
      "Processing Record 134 | Teahupoo\n",
      "Processing Record 135 | Sorland\n",
      "Processing Record 136 | Adrar\n",
      "Processing Record 137 | Ilulissat\n",
      "Processing Record 138 | Constitucion\n",
      "Processing Record 139 | Saint George\n",
      "Processing Record 140 | Marystown\n",
      "Processing Record 141 | Salinas\n",
      "Processing Record 142 | Lebu\n",
      "No City\n",
      "{'cod': '404', 'message': 'city not found'}\n",
      "Processing Record 143 | Castro\n",
      "Processing Record 144 | Medea\n",
      "Processing Record 145 | Mar del Plata\n",
      "Processing Record 146 | Dosso\n",
      "Processing Record 147 | Ponta Delgada\n",
      "Processing Record 148 | Kruisfontein\n",
      "Processing Record 149 | Aksu\n",
      "Processing Record 150 | Rio Grande\n",
      "Processing Record 151 | Salamiyah\n",
      "Processing Record 152 | Bethel\n",
      "Processing Record 153 | Kaitangata\n",
      "Processing Record 154 | Vestmanna\n",
      "Processing Record 155 | Castellammare del Golfo\n",
      "Processing Record 156 | Levice\n",
      "Processing Record 157 | Deogarh\n",
      "Processing Record 158 | Kartuzy\n",
      "Processing Record 159 | Bereda\n",
      "Processing Record 160 | Ribeira Grande\n",
      "Processing Record 161 | Carnarvon\n",
      "Processing Record 162 | Karligan\n",
      "No City\n",
      "{'cod': '404', 'message': 'city not found'}\n",
      "No City\n",
      "{'cod': '404', 'message': 'city not found'}\n",
      "Processing Record 163 | Belmonte\n",
      "Processing Record 164 | Iwanai\n",
      "Processing Record 165 | Mayumba\n",
      "Processing Record 166 | Mount Isa\n",
      "Processing Record 167 | Mujiayingzi\n",
      "No City\n",
      "{'cod': '404', 'message': 'city not found'}\n",
      "Processing Record 168 | Santa Elena\n",
      "Processing Record 169 | Bairiki Village\n",
      "Processing Record 170 | Buraidah\n",
      "Processing Record 171 | Auki\n",
      "Processing Record 172 | Awjilah\n",
      "Processing Record 173 | Faanui\n",
      "No City\n",
      "{'cod': '404', 'message': 'city not found'}\n",
      "Processing Record 174 | Lavrentiya\n",
      "No City\n",
      "{'cod': '404', 'message': 'city not found'}\n",
      "Processing Record 175 | Torbay\n",
      "Processing Record 176 | Qaanaaq\n",
      "Processing Record 177 | Astana\n",
      "Processing Record 178 | Raglan\n",
      "Processing Record 179 | Aldergrove\n",
      "Processing Record 180 | Linxia\n",
      "Processing Record 181 | Santa Maria del Oro\n",
      "Processing Record 182 | Tuktoyaktuk\n",
      "Processing Record 183 | Faya\n",
      "Processing Record 184 | Pevek\n",
      "Processing Record 185 | Puerto Madryn\n",
      "Processing Record 186 | Saint-Philippe\n",
      "Processing Record 187 | Vaitape\n",
      "Processing Record 188 | Ponta do Sol\n",
      "No City\n",
      "{'cod': '404', 'message': 'city not found'}\n",
      "Processing Record 189 | Hualmay\n",
      "Processing Record 190 | Necochea\n",
      "Processing Record 191 | Bengkulu\n",
      "Processing Record 192 | Najran\n",
      "Processing Record 193 | Halmstad\n",
      "Processing Record 194 | Am Timan\n",
      "Processing Record 195 | Dembi Dolo\n",
      "Processing Record 196 | Cockburn Town\n",
      "Processing Record 197 | Sungairaya\n",
      "Processing Record 198 | Nyurba\n",
      "No City\n",
      "{'cod': '404', 'message': 'city not found'}\n",
      "Processing Record 199 | Hit\n",
      "Processing Record 200 | Ardmore\n",
      "No City\n",
      "{'cod': '404', 'message': 'city not found'}\n",
      "Processing Record 201 | Abhar\n",
      "Processing Record 202 | Ugoofaaru\n",
      "Processing Record 203 | Kamaishi\n",
      "Processing Record 204 | Soyo\n",
      "Processing Record 205 | Tukrah\n",
      "No City\n",
      "{'cod': '404', 'message': 'city not found'}\n",
      "Processing Record 206 | Urumqi\n",
      "Processing Record 207 | Eureka\n",
      "Processing Record 208 | Flinders\n",
      "Processing Record 209 | Buchanan\n",
      "Processing Record 210 | Hilo\n",
      "Processing Record 211 | Kysyl-Syr\n",
      "Processing Record 212 | Doha\n",
      "Processing Record 213 | Taltal\n",
      "Processing Record 214 | Oni\n",
      "Processing Record 215 | Laas\n",
      "Processing Record 216 | Olinda\n",
      "Processing Record 217 | Lompoc\n",
      "Processing Record 218 | Hambantota\n",
      "Processing Record 219 | Beaufort\n",
      "Processing Record 220 | Chilmari\n",
      "Processing Record 221 | Tolaga Bay\n",
      "Processing Record 222 | Sumbe\n",
      "Processing Record 223 | Bambous Virieux\n",
      "Processing Record 224 | Swan Hill\n",
      "Processing Record 225 | Cabo San Lucas\n",
      "Processing Record 226 | Bambanglipuro\n"
     ]
    },
    {
     "name": "stdout",
     "output_type": "stream",
     "text": [
      "Processing Record 227 | Bhadrachalam\n",
      "No City\n",
      "{'cod': '404', 'message': 'city not found'}\n",
      "Processing Record 228 | Tucuma\n",
      "Processing Record 229 | Ketchikan\n",
      "No City\n",
      "{'cod': '404', 'message': 'city not found'}\n",
      "Processing Record 230 | Khatanga\n",
      "Processing Record 231 | Fagernes\n",
      "Processing Record 232 | Imbituba\n",
      "Processing Record 233 | Ancud\n",
      "Processing Record 234 | Marsh Harbour\n",
      "Processing Record 235 | Dawei\n",
      "Processing Record 236 | Vestmannaeyjar\n",
      "Processing Record 237 | Vardo\n",
      "Processing Record 238 | Nam Dinh\n",
      "Processing Record 239 | Paita\n",
      "Processing Record 240 | Zaliztsi\n",
      "Processing Record 241 | Kraskino\n",
      "Processing Record 242 | Qui Nhon\n",
      "Processing Record 243 | Karacakoy\n",
      "Processing Record 244 | Shebunino\n",
      "Processing Record 245 | Lucapa\n",
      "Processing Record 246 | Pringsewu\n",
      "Processing Record 247 | Makakilo City\n",
      "Processing Record 248 | Dryden\n",
      "Processing Record 249 | Nanortalik\n",
      "Processing Record 250 | Sur\n",
      "Processing Record 251 | Road Town\n",
      "Processing Record 252 | Terra Santa\n",
      "Processing Record 253 | Gariaband\n",
      "Processing Record 254 | Gbarnga\n",
      "Processing Record 255 | Port Macquarie\n",
      "Processing Record 256 | Chabahar\n",
      "Processing Record 257 | Sao Joao da Barra\n",
      "Processing Record 258 | Kindu\n",
      "Processing Record 259 | Half Moon Bay\n",
      "Processing Record 260 | Virginia Beach\n",
      "Processing Record 261 | Balabac\n",
      "Processing Record 262 | Saskylakh\n",
      "Processing Record 263 | Casablanca\n",
      "Processing Record 264 | Esperance\n",
      "Processing Record 265 | Dehui\n",
      "Processing Record 266 | Zaraza\n",
      "Processing Record 267 | Skelleftea\n",
      "Processing Record 268 | Saldanha\n",
      "Processing Record 269 | Oistins\n",
      "Processing Record 270 | Mehamn\n",
      "Processing Record 271 | Upernavik\n",
      "Processing Record 272 | Geraldton\n",
      "Processing Record 273 | Kabinda\n",
      "Processing Record 274 | Abu Samrah\n",
      "Processing Record 275 | Zhangye\n",
      "Processing Record 276 | Manzanillo\n",
      "Processing Record 277 | Sechenovo\n",
      "Processing Record 278 | Narsaq\n",
      "Processing Record 279 | Hearst\n",
      "Processing Record 280 | Katsuura\n",
      "Processing Record 281 | Taber\n",
      "No City\n",
      "{'cod': '404', 'message': 'city not found'}\n",
      "Processing Record 282 | Belousovka\n",
      "Processing Record 283 | Saint-Louis\n",
      "Processing Record 284 | Kavaratti\n",
      "Processing Record 285 | Bonfim\n",
      "Processing Record 286 | Konstantinovka\n",
      "No City\n",
      "{'cod': '404', 'message': 'city not found'}\n",
      "Processing Record 287 | Lengshuijiang\n",
      "Processing Record 288 | Vaxjo\n",
      "Processing Record 289 | Krasnosel'kup\n",
      "No City\n",
      "{'cod': '404', 'message': 'city not found'}\n",
      "Processing Record 290 | Mount Vernon\n",
      "Processing Record 291 | Sioux Lookout\n",
      "Processing Record 292 | Kang\n",
      "Processing Record 293 | Mahanoro\n",
      "Processing Record 294 | Naze\n",
      "Processing Record 295 | Sivaki\n",
      "Processing Record 296 | The Pas\n",
      "Processing Record 297 | Bagdarin\n",
      "Processing Record 298 | Gao\n",
      "Processing Record 299 | Kodinar\n",
      "Processing Record 300 | Ostrovnoy\n",
      "Processing Record 301 | Cavalcante\n",
      "Processing Record 302 | Coyhaique\n",
      "Processing Record 303 | Aquiraz\n",
      "No City\n",
      "{'cod': '404', 'message': 'city not found'}\n",
      "Processing Record 304 | Klaksvik\n",
      "Processing Record 305 | Port Keats\n",
      "Processing Record 306 | Edd\n",
      "Processing Record 307 | Ulladulla\n",
      "Processing Record 308 | Provideniya\n",
      "Processing Record 309 | Nelson Bay\n",
      "Processing Record 310 | Oxbow\n",
      "Processing Record 311 | Rozkishne\n",
      "Processing Record 312 | Luderitz\n",
      "Processing Record 313 | Nerchinskiy Zavod\n",
      "Processing Record 314 | Copiapo\n",
      "Processing Record 315 | Hanumangarh\n",
      "Processing Record 316 | Yeppoon\n",
      "Processing Record 317 | Aklavik\n",
      "Processing Record 318 | Carpinteria\n",
      "Processing Record 319 | North Bend\n",
      "Processing Record 320 | Svetlogorsk\n",
      "Processing Record 321 | Peace River\n",
      "No City\n",
      "{'cod': '404', 'message': 'city not found'}\n",
      "No City\n",
      "{'cod': '404', 'message': 'city not found'}\n",
      "Processing Record 322 | Isabela\n",
      "Processing Record 323 | Lorengau\n",
      "Processing Record 324 | Saint Anthony\n",
      "Processing Record 325 | Ayan\n",
      "Processing Record 326 | Korla\n",
      "Processing Record 327 | Khovd\n",
      "Processing Record 328 | Lerwick\n",
      "Processing Record 329 | Merauke\n",
      "Processing Record 330 | Vila Velha\n",
      "Processing Record 331 | Pangnirtung\n",
      "No City\n",
      "{'cod': '404', 'message': 'city not found'}\n",
      "Processing Record 332 | Havre-Saint-Pierre\n",
      "Processing Record 333 | Tyukalinsk\n",
      "Processing Record 334 | San-Pedro\n",
      "Processing Record 335 | Atagay\n",
      "Processing Record 336 | Buala\n",
      "Processing Record 337 | Santa Vitoria do Palmar\n",
      "Processing Record 338 | San Quintin\n",
      "Processing Record 339 | Vila Franca do Campo\n",
      "Processing Record 340 | Bintulu\n",
      "Processing Record 341 | Lincoln\n",
      "No City\n",
      "{'cod': '404', 'message': 'city not found'}\n",
      "Processing Record 342 | La Asuncion\n",
      "Processing Record 343 | Alpena\n",
      "Processing Record 344 | Shimoda\n",
      "No City\n",
      "{'cod': '404', 'message': 'city not found'}\n",
      "Processing Record 345 | Syzran\n",
      "Processing Record 346 | Vigevano\n",
      "Processing Record 347 | Luwuk\n",
      "Processing Record 348 | Port Blair\n",
      "No City\n",
      "{'cod': '404', 'message': 'city not found'}\n",
      "No City\n",
      "{'cod': '404', 'message': 'city not found'}\n",
      "Processing Record 349 | Porto-Novo\n",
      "Processing Record 350 | Neftcala\n",
      "Processing Record 351 | Antsohihy\n",
      "Processing Record 352 | Tiarei\n",
      "Processing Record 353 | Dunedin\n",
      "Processing Record 354 | Tuatapere\n",
      "Processing Record 355 | Sabirabad\n",
      "Processing Record 356 | Provincia di Mantova\n",
      "Processing Record 357 | Santa Cruz del Sur\n",
      "Processing Record 358 | Rusape\n",
      "Processing Record 359 | Vilcun\n",
      "Processing Record 360 | Amuntai\n",
      "Processing Record 361 | Agadez\n",
      "Processing Record 362 | Kuito\n",
      "Processing Record 363 | Santiago del Estero\n",
      "Processing Record 364 | Loandjili\n",
      "Processing Record 365 | Santa Rosa\n",
      "Processing Record 366 | Deputatsky\n",
      "No City\n",
      "{'cod': '404', 'message': 'city not found'}\n",
      "Processing Record 367 | Hun\n",
      "Processing Record 368 | Pochutla\n",
      "Processing Record 369 | Salalah\n",
      "Processing Record 370 | Pyay\n",
      "Processing Record 371 | Katherine\n",
      "Processing Record 372 | Saint Paul\n",
      "Processing Record 373 | Stolbishche\n",
      "No City\n",
      "{'cod': '404', 'message': 'city not found'}\n",
      "Processing Record 374 | Resistencia\n",
      "Processing Record 375 | Kamenka\n",
      "Processing Record 376 | Kurilsk\n",
      "Processing Record 377 | Bac Lieu\n",
      "Processing Record 378 | Witbank\n",
      "No City\n",
      "{'cod': '404', 'message': 'city not found'}\n",
      "Processing Record 379 | Ust-Tsilma\n",
      "Processing Record 380 | Micheweni\n",
      "Processing Record 381 | Tuyen Quang\n",
      "No City\n",
      "{'cod': '404', 'message': 'city not found'}\n",
      "Processing Record 382 | West Wendover\n",
      "Processing Record 383 | Santa Lucia\n",
      "Processing Record 384 | Bulgan\n",
      "Processing Record 385 | Yumen\n",
      "Processing Record 386 | Praia\n",
      "Processing Record 387 | Beringovskiy\n",
      "Processing Record 388 | Winchester\n",
      "Processing Record 389 | Yangi Marg`ilon\n",
      "Processing Record 390 | Gunjur\n",
      "Processing Record 391 | Kungurtug\n",
      "Processing Record 392 | Mayskiy\n",
      "Processing Record 393 | Iqaluit\n",
      "Processing Record 394 | Kingsville\n",
      "Processing Record 395 | Rumoi\n",
      "Processing Record 396 | Jatai\n",
      "Processing Record 397 | Bud\n",
      "Processing Record 398 | Severnyy\n",
      "Processing Record 399 | Mount Gambier\n",
      "Processing Record 400 | Mudgee\n",
      "Processing Record 401 | Dali\n",
      "Processing Record 402 | Nainital\n",
      "Processing Record 403 | Longyearbyen\n",
      "Processing Record 404 | Planaltina\n",
      "Processing Record 405 | Tortoli\n",
      "Processing Record 406 | Moyale\n",
      "Processing Record 407 | Englehart\n",
      "Processing Record 408 | Tongzi\n",
      "Processing Record 409 | Camana\n",
      "Processing Record 410 | Sangar\n",
      "Processing Record 411 | Souillac\n",
      "Processing Record 412 | Sun City West\n",
      "No City\n",
      "{'cod': '404', 'message': 'city not found'}\n",
      "Processing Record 413 | Avera\n",
      "Processing Record 414 | Rach Gia\n",
      "Processing Record 415 | Kulhudhuffushi\n",
      "Processing Record 416 | Kiama\n",
      "Processing Record 417 | Hasaki\n",
      "Processing Record 418 | High Level\n",
      "Processing Record 419 | Crotone\n",
      "Processing Record 420 | Termoli\n",
      "Processing Record 421 | Chicama\n",
      "Processing Record 422 | Villa Vicente Guerrero\n",
      "Processing Record 423 | Eagle Pass\n",
      "No City\n",
      "{'cod': '404', 'message': 'city not found'}\n",
      "Processing Record 424 | Henties Bay\n",
      "Processing Record 425 | Petropavlovsk-Kamchatsky\n",
      "Processing Record 426 | Broome\n",
      "Processing Record 427 | Jiwani\n",
      "Processing Record 428 | Ucluelet\n",
      "Processing Record 429 | Agirish\n",
      "Processing Record 430 | Tura\n",
      "Processing Record 431 | Cueramaro\n",
      "Processing Record 432 | Gold Coast\n",
      "No City\n",
      "{'cod': '404', 'message': 'city not found'}\n",
      "Processing Record 433 | La Rioja\n",
      "Processing Record 434 | Northam\n",
      "Processing Record 435 | Severo-Yeniseyskiy\n",
      "Processing Record 436 | Westport\n",
      "Processing Record 437 | Giohar\n",
      "Processing Record 438 | Mitu\n",
      "Processing Record 439 | Mwinilunga\n"
     ]
    },
    {
     "name": "stdout",
     "output_type": "stream",
     "text": [
      "Processing Record 440 | Kribi\n",
      "No City\n",
      "{'cod': '404', 'message': 'city not found'}\n",
      "Processing Record 441 | Montepuez\n",
      "Processing Record 442 | Kavieng\n",
      "Processing Record 443 | Yuncheng\n",
      "Processing Record 444 | Boadilla del Monte\n",
      "Processing Record 445 | Ha Giang\n",
      "Processing Record 446 | Severo-Kuril'sk\n",
      "Processing Record 447 | Qaqortoq\n",
      "Processing Record 448 | Boyolangu\n",
      "Processing Record 449 | Itapirapua\n",
      "Processing Record 450 | Manokwari\n",
      "Processing Record 451 | Borazjan\n",
      "Processing Record 452 | Hamilton\n",
      "No City\n",
      "{'cod': '404', 'message': 'city not found'}\n",
      "Processing Record 453 | Thinadhoo\n",
      "Processing Record 454 | Grand Gaube\n",
      "Processing Record 455 | Haines Junction\n",
      "Processing Record 456 | Gibsons\n",
      "Processing Record 457 | Rocha\n",
      "Processing Record 458 | Bay-Khaak\n",
      "Processing Record 459 | Sosnovo-Ozerskoye\n",
      "Processing Record 460 | Lambarene\n",
      "Processing Record 461 | Tianpeng\n",
      "Processing Record 462 | Nizhniy Baskunchak\n",
      "Processing Record 463 | Chapais\n",
      "Processing Record 464 | Kununurra\n",
      "Processing Record 465 | Asau\n",
      "Processing Record 466 | Ust'-Ishim\n",
      "Processing Record 467 | Taquaritinga\n",
      "Processing Record 468 | Antofagasta\n",
      "No City\n",
      "{'cod': '404', 'message': 'city not found'}\n",
      "Processing Record 469 | Durusu\n",
      "Processing Record 470 | Yamada\n",
      "Processing Record 471 | Padre Bernardo\n",
      "Processing Record 472 | Tautira\n",
      "Processing Record 473 | Bathurst\n",
      "Processing Record 474 | Sabang\n",
      "Processing Record 475 | Nemuro\n",
      "Processing Record 476 | Barcelona\n",
      "No City\n",
      "{'cod': '404', 'message': 'city not found'}\n",
      "Processing Record 477 | Atasu\n",
      "Processing Record 478 | Margate\n",
      "Processing Record 479 | Ocara\n",
      "Processing Record 480 | Bentiu\n",
      "Processing Record 481 | North Adams\n",
      "Processing Record 482 | Porto Walter\n",
      "Processing Record 483 | Fairbanks\n",
      "Processing Record 484 | Aksarka\n",
      "Processing Record 485 | Oruzgan\n",
      "Processing Record 486 | Jiayuguan\n",
      "Processing Record 487 | Bacolod City\n",
      "Processing Record 488 | Strezhevoy\n",
      "Processing Record 489 | Payo\n",
      "Processing Record 490 | Abong Mbang\n",
      "Processing Record 491 | Diego de Almagro\n",
      "Processing Record 492 | Lakhdenpokhya\n",
      "Processing Record 493 | The Valley\n",
      "Processing Record 494 | Booue\n",
      "Processing Record 495 | Sao Felix do Xingu\n",
      "Processing Record 496 | Sibolga\n",
      "Processing Record 497 | Dingle\n",
      "Processing Record 498 | Vadodara\n",
      "Processing Record 499 | Kovylkino\n",
      "Processing Record 500 | Port Hardy\n",
      "Processing Record 501 | Tabory\n",
      "No City\n",
      "{'cod': '404', 'message': 'city not found'}\n",
      "Processing Record 502 | Shepetivka\n",
      "Processing Record 503 | Mamou\n",
      "Processing Record 504 | Palmer\n",
      "Processing Record 505 | Port Hedland\n",
      "Processing Record 506 | Ballarat\n",
      "Processing Record 507 | Tessalit\n",
      "Processing Record 508 | Chippewa Falls\n",
      "Processing Record 509 | Kautokeino\n",
      "Processing Record 510 | Port Augusta\n",
      "Processing Record 511 | Amatan\n",
      "Processing Record 512 | Pula\n",
      "Processing Record 513 | Mbanza-Ngungu\n",
      "Processing Record 514 | Liku\n",
      "Processing Record 515 | Marabu\n",
      "No City\n",
      "{'cod': '404', 'message': 'city not found'}\n",
      "Processing Record 516 | Belaya Glina\n",
      "Processing Record 517 | Mossamedes\n",
      "Processing Record 518 | Toamasina\n",
      "Processing Record 519 | Kedrovyy\n",
      "Processing Record 520 | Gorontalo\n",
      "No City\n",
      "{'cod': '404', 'message': 'city not found'}\n",
      "Processing Record 521 | Sechura\n",
      "No City\n",
      "{'cod': '404', 'message': 'city not found'}\n",
      "Processing Record 522 | San Patricio\n",
      "Processing Record 523 | Kvareli\n",
      "Processing Record 524 | Marathon\n",
      "Processing Record 525 | Norfolk\n",
      "Processing Record 526 | Ariquemes\n",
      "Processing Record 527 | Esim\n",
      "Processing Record 528 | Punta Alta\n",
      "Processing Record 529 | Quelimane\n",
      "Processing Record 530 | Pitsunda\n",
      "Processing Record 531 | Tahta\n",
      "Processing Record 532 | Sorong\n",
      "Processing Record 533 | Bowen\n",
      "Processing Record 534 | Anaco\n",
      "Processing Record 535 | Kizema\n",
      "Processing Record 536 | Stornoway\n",
      "Processing Record 537 | Suarez\n",
      "Processing Record 538 | Merritt Island\n",
      "Processing Record 539 | Quthing\n",
      "No City\n",
      "{'cod': '404', 'message': 'city not found'}\n",
      "Processing Record 540 | Buriti\n",
      "Processing Record 541 | Huangmei\n",
      "Processing Record 542 | Sibut\n",
      "Processing Record 543 | Sambava\n",
      "Processing Record 544 | Bethanien\n",
      "Processing Record 545 | Kolosovka\n",
      "Processing Record 546 | Roslavl\n",
      "Processing Record 547 | Razole\n",
      "Processing Record 548 | Omboue\n",
      "Processing Record 549 | Scarborough\n",
      "Processing Record 550 | Gainesville\n",
      "Processing Record 551 | Brownsville\n",
      "No City\n",
      "{'cod': '404', 'message': 'city not found'}\n",
      "Processing Record 552 | Bull Savanna\n",
      "Processing Record 553 | Sittwe\n",
      "Processing Record 554 | Young\n",
      "Processing Record 555 | Wewak\n",
      "No City\n",
      "{'cod': '404', 'message': 'city not found'}\n",
      "Processing Record 556 | Portland\n",
      "Processing Record 557 | Kalmunai\n",
      "Processing Record 558 | Turukhansk\n",
      "Processing Record 559 | Biltine\n",
      "Processing Record 560 | Alto Araguaia\n",
      "Processing Record 561 | Areia Branca\n",
      "Processing Record 562 | Karratha\n",
      "Processing Record 563 | Caravelas\n",
      "Processing Record 564 | Waipawa\n",
      "Processing Record 565 | Departamento de Maldonado\n",
      "Processing Record 566 | Yulara\n",
      "Processing Record 567 | Ubari\n",
      "Processing Record 568 | Raudeberg\n",
      "Processing Record 569 | Marovoay\n",
      "Processing Record 570 | Constantine\n",
      "Processing Record 571 | Nsanje\n",
      "Processing Record 572 | West Lafayette\n",
      "Processing Record 573 | Santa Fe\n",
      "No City\n",
      "{'cod': '404', 'message': 'city not found'}\n",
      "Processing Record 574 | Verkh-Usugli\n",
      "Processing Record 575 | Baykit\n",
      "Processing Record 576 | Grand Forks\n",
      "Processing Record 577 | Quatre Cocos\n",
      "No City\n",
      "{'cod': '404', 'message': 'city not found'}\n",
      "Processing Record 578 | Xining\n",
      "Processing Record 579 | Cidreira\n",
      "Processing Record 580 | Morros\n",
      "Processing Record 581 | Yoro\n",
      "Processing Record 582 | Muroto\n",
      "Processing Record 583 | Avanuorri\n",
      "Processing Record 584 | Galle\n",
      "Processing Record 585 | Portel\n",
      "Processing Record 586 | Shubarshi\n",
      "Processing Record 587 | Sitamau\n",
      "Processing Record 588 | Gogrial\n",
      "Processing Record 589 | Volksrust\n",
      "Processing Record 590 | Astoria\n",
      "Processing Record 591 | Farafenni\n",
      "Processing Record 592 | Muncar\n",
      "Processing Record 593 | Harrisonville\n",
      "Processing Record 594 | Gondanglegi\n",
      "Processing Record 595 | Istok\n",
      "Processing Record 596 | Tilichiki\n",
      "Processing Record 597 | Oranjestad\n",
      "Processing Record 598 | Zyryanka\n",
      "Processing Record 599 | Novoagansk\n",
      "Processing Record 600 | Noumea\n",
      "Processing Record 601 | Ahipara\n",
      "Processing Record 602 | Bilibino\n",
      "Processing Record 603 | Kutum\n"
     ]
    }
   ],
   "source": [
    "#Create empty lists for for loop\n",
    "city_name = []\n",
    "cloudiness = []\n",
    "country = []\n",
    "date = []\n",
    "humidity = []\n",
    "lat = []\n",
    "lng = []\n",
    "maxTemp = []\n",
    "windSpeed = []\n",
    "\n",
    "record = 1\n",
    "\n",
    "#creat a for loop that loops through data. Also creat try and except statement and append response/url data.\n",
    "\n",
    "for city in cities:\n",
    "    url = f\"http://api.openweathermap.org/data/2.5/weather?appid={api_key}&q={city}&units=Imperial\"\n",
    "    try:\n",
    "        response = requests.get(url).json()\n",
    "        city_name.append(response[\"name\"])\n",
    "        cloudiness.append(response[\"clouds\"][\"all\"])\n",
    "        country.append(response[\"sys\"][\"country\"])\n",
    "        date.append(response[\"dt\"])\n",
    "        humidity.append(response[\"main\"][\"humidity\"])\n",
    "        lat.append(response[\"coord\"][\"lat\"])\n",
    "        lng.append(response[\"coord\"][\"lon\"])\n",
    "        maxTemp.append(response[\"main\"][\"temp\"])\n",
    "        windSpeed.append(response[\"wind\"][\"speed\"])\n",
    "        cityRecord = response[\"name\"]\n",
    "        print(f\"Processing Record {record} | {cityRecord}\")\n",
    "        \n",
    "        #Create a time function that will prevent you from being blocked for running the api too often.\n",
    "        record= record + 1\n",
    "        time.sleep(1.01)\n",
    "    except:\n",
    "        print(\"No City\")\n",
    "        print(response)\n",
    "#g_key"
   ]
  },
  {
   "cell_type": "code",
   "execution_count": 6,
   "metadata": {},
   "outputs": [
    {
     "name": "stdout",
     "output_type": "stream",
     "text": [
      "['sao%20filipe', 'puerto%20ayora', 'preeceville', 'san%20isidro', 'punta%20arenas', 'mahebourg', 'avarua', 'chuy', 'cape%20town', 'bluff', 'port%20elizabeth', 'mackay', 'yellowknife', 'vao', 'atuona', 'sitka', 'novouzensk', 'bihoro', 'lata', 'guaruja', 'mys%20shmidta', 'hermanus', 'jamestown', 'cururupu', 'altay', 'ulcinj', 'ushuaia', 'shingu', 'uvira', 'riyadh', 'hobart', 'umm%20kaddadah', 'bilma', 'bandarbeyla', 'taolanaro', 'acapulco', 'pacific%20grove', 'zhigansk', 'fortuna', 'new%20norfolk', 'arraial%20do%20cabo', 'le%20portel', 'sinnamary', 'kapaa', 'sentyabrskiy', 'butaritari', 'amderma', 'clyde%20river', 'kloulklubed', 'port%20alfred', 'gat', 'san%20juan%20de%20uraba', 'victoria', 'cayenne', 'turbat', 'barrow', 'japura', 'nurmijarvi', 'tasiilaq', 'kenai', 'cap%20malheureux', 'townsville', 'guerrero%20negro', 'quijingue', 'lagoa', 'albany', 'rikitea', 'luanda', 'grand%20river%20south%20east', 'ihosy', 'rawson', 'udachnyy', 'bathsheba', 'mataura', 'zharkent', 'cherskiy', 'hithadhoo', 'vaini', 'jinxiang', 'caceres', 'sarkand', 'pisco', 'mnogovershinnyy', 'namatanai', 'leningradskiy', 'kaoma', 'surt', 'te%20anau', 'saleaula', 'codrington', 'kodiak', 'bam', 'busselton', 'isangel', 'dikson', 'marawi', 'dolores', 'husavik', 'shaoyang', 'maltahohe', 'bredasdorp', 'sakakah', 'tazovskiy', 'nuuk', 'thompson', 'los%20llanos%20de%20aridane', 'ust-ilimsk', 'chokurdakh', 'taitung', 'kahului', 'tiksi', 'belyy%20yar', 'east%20london', 'monastirakion', 'talnakh', 'mitsamiouli', 'carbonia', 'pimentel', 'georgetown', 'nara', 'kieta', 'havelock', 'gua%20musang', 'berlevag', 'nikolskoye', 'xinyu', 'hofn', 'airai', 'norman%20wells', 'bubaque', 'mahbubabad', 'ilek', 'poum', 'litovko', 'hokitika', 'fare', 'raga', 'teya', 'elko', 'teahupoo', 'sorland', 'adrar', 'ilulissat', 'constitucion', 'saint%20george', 'marystown', 'salinas', 'lebu', 'illoqqortoormiut', 'castro', 'medea', 'mar%20del%20plata', 'dosso', 'ponta%20delgada', 'kruisfontein', 'aksu', 'rio%20grande', 'salamiyah', 'bethel', 'kaitangata', 'vestmanna', 'castellammare%20del%20golfo', 'leua', 'deogarh', 'kartuzy', 'bereda', 'ribeira%20grande', 'carnarvon', 'carlagan', 'bolungarvik', 'khonuu', 'belmonte', 'iwanai', 'mayumba', 'mount%20isa', 'mujiayingzi', 'forset', 'santa%20elena', 'bairiki', 'buraydah', 'auki', 'awjilah', 'faanui', 'attawapiskat', 'lavrentiya', 'louisbourg', 'torbay', 'qaanaaq', 'astana', 'raglan', 'aldergrove', 'linxia', 'santa%20maria%20del%20oro', 'tuktoyaktuk', 'faya', 'pevek', 'puerto%20madryn', 'saint-philippe', 'vaitape', 'ponta%20do%20sol', 'kamenskoye', 'hualmay', 'necochea', 'bengkulu', 'najran', 'halmstad', 'am%20timan', 'dembi%20dolo', 'cockburn%20town', 'sungairaya', 'nyurba', 'vylgort', 'hit', 'ardmore', 'westpunt', 'abhar', 'ugoofaaru', 'kamaishi', 'soyo', 'tukrah', 'mocambique', 'urumqi', 'eureka', 'flinders', 'buchanan', 'hilo', 'kysyl-syr', 'doha', 'taltal', 'oni', 'lasa', 'olinda', 'lompoc', 'hambantota', 'beaufort', 'chilmari', 'tolaga%20bay', 'sumbe', 'bambous%20virieux', 'swan%20hill', 'cabo%20san%20lucas', 'bambanglipuro', 'bhadrachalam', 'krasnoyarsk-66', 'tucuma', 'ketchikan', 'lolua', 'khatanga', 'fagernes', 'imbituba', 'ancud', 'marsh%20harbour', 'dawei', 'vestmannaeyjar', 'vardo', 'nam%20dinh', 'paita', 'zaliztsi', 'kraskino', 'qui%20nhon', 'karacakoy', 'shebunino', 'lucapa', 'pringsewu', 'makakilo%20city', 'dryden', 'nanortalik', 'sur', 'road%20town', 'terra%20santa', 'gariaband', 'gbarnga', 'port%20macquarie', 'chabahar', 'sao%20joao%20da%20barra', 'kindu', 'half%20moon%20bay', 'virginia%20beach', 'balabac', 'saskylakh', 'casablanca', 'esperance', 'dehui', 'zaraza', 'skelleftea', 'saldanha', 'oistins', 'mehamn', 'upernavik', 'geraldton', 'kabinda', 'abu%20samrah', 'zhangye', 'manzanillo', 'sechenovo', 'narsaq', 'hearst', 'katsuura', 'taber', 'tsihombe', 'belousovka', 'saint-louis', 'kavaratti', 'bonfim', 'konstantinovka', 'bargal', 'lengshuijiang', 'vaxjo', 'krasnoselkup', 'ruatoria', 'mount%20vernon', 'sioux%20lookout', 'kang', 'mahanoro', 'naze', 'sivaki', 'the%20pas', 'bagdarin', 'gao', 'kodinar', 'ostrovnoy', 'cavalcante', 'coihaique', 'aquiraz', 'uk', 'klaksvik', 'port%20keats', 'edd', 'ulladulla', 'provideniya', 'nelson%20bay', 'oxbow', 'rozkishne', 'luderitz', 'nerchinskiy%20zavod', 'copiapo', 'hanumangarh', 'yeppoon', 'aklavik', 'carpinteria', 'north%20bend', 'svetlogorsk', 'peace%20river', 'doctor%20pedro%20p.%20pena', 'port-de-paix', 'isabela', 'lorengau', 'saint%20anthony', 'ayan', 'korla', 'hovd', 'lerwick', 'merauke', 'vila%20velha', 'pangnirtung', 'anar%20darreh', 'havre-saint-pierre', 'tyukalinsk', 'san-pedro', 'atagay', 'buala', 'santa%20vitoria%20do%20palmar', 'san%20quintin', 'vila%20franca%20do%20campo', 'bintulu', 'lincoln', 'mahadday%20weyne', 'la%20asuncion', 'alpena', 'shimoda', 'kuche', 'syzran', 'vigevano', 'luwuk', 'port%20blair', 'samusu', 'kazalinsk', 'porto%20novo', 'neftcala', 'antsohihy', 'tiarei', 'dunedin', 'tuatapere', 'sabirabad', 'mantua', 'santa%20cruz%20del%20sur', 'rusape', 'vilcun', 'amuntai', 'agadez', 'kuito', 'santiago%20del%20estero', 'loandjili', 'santa%20rosa', 'deputatskiy', 'belushya%20guba', 'hun', 'pochutla', 'salalah', 'pyay', 'katherine', 'saint%20paul', 'stolbishche', 'marcona', 'resistencia', 'kamenka', 'kurilsk', 'bac%20lieu', 'witbank', 'barentsburg', 'ust-tsilma', 'micheweni', 'tuyen%20quang', 'solovetskiy', 'west%20wendover', 'santa%20lucia', 'bulgan', 'yumen', 'praia', 'beringovskiy', 'winchester', 'komsomolskiy', 'gunjur', 'kungurtug', 'mayskiy', 'iqaluit', 'kingsville', 'rumoi', 'jatai', 'bud', 'severnyy', 'mount%20gambier', 'mudgee', 'dali', 'naini%20tal', 'longyearbyen', 'planaltina', 'tortoli', 'moyale', 'englehart', 'tongzi', 'camana', 'sangar', 'souillac', 'sun%20city%20west', 'ardistan', 'avera', 'rach%20gia', 'kulhudhuffushi', 'kiama', 'hasaki', 'high%20level', 'crotone', 'termoli', 'chicama', 'vicente%20guerrero', 'eagle%20pass', 'phan%20rang', 'henties%20bay', 'petropavlovsk-kamchatskiy', 'broome', 'jiwani', 'ucluelet', 'agirish', 'tura', 'cueramaro', 'gold%20coast', 'karakendzha', 'la%20rioja', 'northam', 'severo-yeniseyskiy', 'westport', 'jawhar', 'mitu', 'mwinilunga', 'kribi', 'karamea', 'montepuez', 'kavieng', 'yuncheng', 'boadilla%20del%20monte', 'ha%20giang', 'severo-kurilsk', 'qaqortoq', 'boyolangu', 'itapirapua', 'manokwari', 'borazjan', 'hamilton', 'palabuhanratu', 'thinadhoo', 'grand%20gaube', 'haines%20junction', 'gibsons', 'rocha', 'bay-khaak', 'sosnovo-ozerskoye', 'lambarene', 'tianpeng', 'nizhniy%20baskunchak', 'chapais', 'kununurra', 'asau', 'ust-ishim', 'taquaritinga', 'antofagasta', 'malwan', 'durusu', 'yamada', 'padre%20bernardo', 'tautira', 'bathurst', 'sabang', 'nemuro', 'barcelona', 'sidi%20qasim', 'atasu', 'margate', 'ocara', 'bentiu', 'north%20adams', 'porto%20walter', 'fairbanks', 'aksarka', 'uruzgan', 'jiayuguan', 'bacolod', 'strezhevoy', 'payo', 'abong%20mbang', 'diego%20de%20almagro', 'lakhdenpokhya', 'the%20valley', 'booue', 'sao%20felix%20do%20xingu', 'sibolga', 'dingle', 'vadodara', 'kovylkino', 'port%20hardy', 'tabory', 'meyungs', 'shepetivka', 'mamou', 'palmer', 'port%20hedland', 'ballarat', 'tessalit', 'chippewa%20falls', 'kautokeino', 'port%20augusta', 'amatan', 'pula', 'mbanza-ngungu', 'liku', 'miri', 'vaitupu', 'belaya%20glina', 'namibe', 'toamasina', 'kedrovyy', 'gorontalo', 'yuzhno-yeniseyskiy', 'sechura', 'aflu', 'san%20patricio', 'kvareli', 'marathon', 'norfolk', 'ariquemes', 'axim', 'punta%20alta', 'quelimane', 'pitsunda', 'tahta', 'sorong', 'bowen', 'anaco', 'kizema', 'stornoway', 'suarez', 'merritt%20island', 'quthing', 'nizhneyansk', 'buriti', 'huangmei', 'sibut', 'sambava', 'bethanien', 'kolosovka', 'roslavl', 'razole', 'omboue', 'scarborough', 'gainesville', 'brownsville', 'mixtequilla', 'bull%20savanna', 'akyab', 'young', 'wewak', 'mergui', 'portland', 'kalmunai', 'turukhansk', 'biltine', 'alto%20araguaia', 'areia%20branca', 'karratha', 'caravelas', 'waipawa', 'maldonado', 'yulara', 'awbari', 'raudeberg', 'marovoay', 'constantine', 'nsanje', 'west%20lafayette', 'santa%20fe', 'angra', 'verkh-usugli', 'baykit', 'grand%20forks', 'quatre%20cocos', 'kailasahar', 'xining', 'cidreira', 'morros', 'yoro', 'muroto', 'havoysund', 'galle', 'portel', 'shubarshi', 'sitamau', 'gogrial', 'volksrust', 'astoria', 'farafenni', 'muncar', 'harrisonville', 'gondanglegi', 'istok', 'tilichiki', 'oranjestad', 'zyryanka', 'novoagansk', 'noumea', 'ahipara', 'bilibino', 'kutum']\n"
     ]
    }
   ],
   "source": [
    "#Printed out cities to make sure there were multiple cities.\n",
    "print(cities)"
   ]
  },
  {
   "cell_type": "markdown",
   "metadata": {},
   "source": [
    "### Convert Raw Data to DataFrame\n",
    "* Export the city data into a .csv.\n",
    "* Display the DataFrame"
   ]
  },
  {
   "cell_type": "code",
   "execution_count": 22,
   "metadata": {},
   "outputs": [
    {
     "data": {
      "text/html": [
       "<div>\n",
       "<style scoped>\n",
       "    .dataframe tbody tr th:only-of-type {\n",
       "        vertical-align: middle;\n",
       "    }\n",
       "\n",
       "    .dataframe tbody tr th {\n",
       "        vertical-align: top;\n",
       "    }\n",
       "\n",
       "    .dataframe thead th {\n",
       "        text-align: right;\n",
       "    }\n",
       "</style>\n",
       "<table border=\"1\" class=\"dataframe\">\n",
       "  <thead>\n",
       "    <tr style=\"text-align: right;\">\n",
       "      <th></th>\n",
       "      <th>City</th>\n",
       "      <th>Cloudiness</th>\n",
       "      <th>Country</th>\n",
       "      <th>Date</th>\n",
       "      <th>Humidity</th>\n",
       "      <th>Lat</th>\n",
       "      <th>Lng</th>\n",
       "      <th>Max Temp</th>\n",
       "      <th>Wind Speed</th>\n",
       "    </tr>\n",
       "  </thead>\n",
       "  <tbody>\n",
       "    <tr>\n",
       "      <td>0</td>\n",
       "      <td>Sao Filipe</td>\n",
       "      <td>0</td>\n",
       "      <td>CV</td>\n",
       "      <td>1580166287</td>\n",
       "      <td>56</td>\n",
       "      <td>14.90</td>\n",
       "      <td>-24.50</td>\n",
       "      <td>74.48</td>\n",
       "      <td>15.73</td>\n",
       "    </tr>\n",
       "    <tr>\n",
       "      <td>1</td>\n",
       "      <td>Puerto Ayora</td>\n",
       "      <td>40</td>\n",
       "      <td>EC</td>\n",
       "      <td>1580166288</td>\n",
       "      <td>62</td>\n",
       "      <td>-0.74</td>\n",
       "      <td>-90.35</td>\n",
       "      <td>80.11</td>\n",
       "      <td>5.82</td>\n",
       "    </tr>\n",
       "    <tr>\n",
       "      <td>2</td>\n",
       "      <td>Preeceville</td>\n",
       "      <td>64</td>\n",
       "      <td>CA</td>\n",
       "      <td>1580166289</td>\n",
       "      <td>95</td>\n",
       "      <td>51.95</td>\n",
       "      <td>-102.67</td>\n",
       "      <td>9.50</td>\n",
       "      <td>4.45</td>\n",
       "    </tr>\n",
       "    <tr>\n",
       "      <td>3</td>\n",
       "      <td>San Isidro</td>\n",
       "      <td>75</td>\n",
       "      <td>PE</td>\n",
       "      <td>1580166291</td>\n",
       "      <td>83</td>\n",
       "      <td>-12.12</td>\n",
       "      <td>-77.05</td>\n",
       "      <td>77.00</td>\n",
       "      <td>14.99</td>\n",
       "    </tr>\n",
       "    <tr>\n",
       "      <td>4</td>\n",
       "      <td>Punta Arenas</td>\n",
       "      <td>100</td>\n",
       "      <td>CL</td>\n",
       "      <td>1580166036</td>\n",
       "      <td>66</td>\n",
       "      <td>-53.15</td>\n",
       "      <td>-70.92</td>\n",
       "      <td>53.29</td>\n",
       "      <td>20.80</td>\n",
       "    </tr>\n",
       "    <tr>\n",
       "      <td>...</td>\n",
       "      <td>...</td>\n",
       "      <td>...</td>\n",
       "      <td>...</td>\n",
       "      <td>...</td>\n",
       "      <td>...</td>\n",
       "      <td>...</td>\n",
       "      <td>...</td>\n",
       "      <td>...</td>\n",
       "      <td>...</td>\n",
       "    </tr>\n",
       "    <tr>\n",
       "      <td>598</td>\n",
       "      <td>Novoagansk</td>\n",
       "      <td>100</td>\n",
       "      <td>RU</td>\n",
       "      <td>1580167075</td>\n",
       "      <td>95</td>\n",
       "      <td>61.94</td>\n",
       "      <td>76.66</td>\n",
       "      <td>14.41</td>\n",
       "      <td>8.59</td>\n",
       "    </tr>\n",
       "    <tr>\n",
       "      <td>599</td>\n",
       "      <td>Noumea</td>\n",
       "      <td>62</td>\n",
       "      <td>NC</td>\n",
       "      <td>1580167061</td>\n",
       "      <td>45</td>\n",
       "      <td>-22.28</td>\n",
       "      <td>166.46</td>\n",
       "      <td>85.77</td>\n",
       "      <td>10.29</td>\n",
       "    </tr>\n",
       "    <tr>\n",
       "      <td>600</td>\n",
       "      <td>Ahipara</td>\n",
       "      <td>0</td>\n",
       "      <td>NZ</td>\n",
       "      <td>1580167078</td>\n",
       "      <td>62</td>\n",
       "      <td>-35.17</td>\n",
       "      <td>173.17</td>\n",
       "      <td>91.00</td>\n",
       "      <td>10.18</td>\n",
       "    </tr>\n",
       "    <tr>\n",
       "      <td>601</td>\n",
       "      <td>Bilibino</td>\n",
       "      <td>100</td>\n",
       "      <td>RU</td>\n",
       "      <td>1580167079</td>\n",
       "      <td>84</td>\n",
       "      <td>68.05</td>\n",
       "      <td>166.44</td>\n",
       "      <td>0.01</td>\n",
       "      <td>2.51</td>\n",
       "    </tr>\n",
       "    <tr>\n",
       "      <td>602</td>\n",
       "      <td>Kutum</td>\n",
       "      <td>85</td>\n",
       "      <td>SD</td>\n",
       "      <td>1580167080</td>\n",
       "      <td>25</td>\n",
       "      <td>14.20</td>\n",
       "      <td>24.67</td>\n",
       "      <td>47.03</td>\n",
       "      <td>3.47</td>\n",
       "    </tr>\n",
       "  </tbody>\n",
       "</table>\n",
       "<p>603 rows × 9 columns</p>\n",
       "</div>"
      ],
      "text/plain": [
       "             City  Cloudiness Country        Date  Humidity    Lat     Lng  \\\n",
       "0      Sao Filipe           0      CV  1580166287        56  14.90  -24.50   \n",
       "1    Puerto Ayora          40      EC  1580166288        62  -0.74  -90.35   \n",
       "2     Preeceville          64      CA  1580166289        95  51.95 -102.67   \n",
       "3      San Isidro          75      PE  1580166291        83 -12.12  -77.05   \n",
       "4    Punta Arenas         100      CL  1580166036        66 -53.15  -70.92   \n",
       "..            ...         ...     ...         ...       ...    ...     ...   \n",
       "598    Novoagansk         100      RU  1580167075        95  61.94   76.66   \n",
       "599        Noumea          62      NC  1580167061        45 -22.28  166.46   \n",
       "600       Ahipara           0      NZ  1580167078        62 -35.17  173.17   \n",
       "601      Bilibino         100      RU  1580167079        84  68.05  166.44   \n",
       "602         Kutum          85      SD  1580167080        25  14.20   24.67   \n",
       "\n",
       "     Max Temp  Wind Speed  \n",
       "0       74.48       15.73  \n",
       "1       80.11        5.82  \n",
       "2        9.50        4.45  \n",
       "3       77.00       14.99  \n",
       "4       53.29       20.80  \n",
       "..        ...         ...  \n",
       "598     14.41        8.59  \n",
       "599     85.77       10.29  \n",
       "600     91.00       10.18  \n",
       "601      0.01        2.51  \n",
       "602     47.03        3.47  \n",
       "\n",
       "[603 rows x 9 columns]"
      ]
     },
     "execution_count": 22,
     "metadata": {},
     "output_type": "execute_result"
    }
   ],
   "source": [
    "#Create a dictionary with all columns inside for data frame.\n",
    "weatherDict = {\n",
    "    \"City\": city_name,\n",
    "    \"Cloudiness\":cloudiness, \n",
    "    \"Country\":country,\n",
    "    \"Date\":date, \n",
    "    \"Humidity\": humidity,\n",
    "    \"Lat\":lat, \n",
    "    \"Lng\":lng, \n",
    "    \"Max Temp\": maxTemp,\n",
    "    \"Wind Speed\":windSpeed\n",
    "}\n",
    "weatherData = pd.DataFrame(weatherDict)\n",
    "weatherData"
   ]
  },
  {
   "cell_type": "code",
   "execution_count": null,
   "metadata": {},
   "outputs": [],
   "source": []
  },
  {
   "cell_type": "markdown",
   "metadata": {},
   "source": [
    "### Plotting the Data\n",
    "* Use proper labeling of the plots using plot titles (including date of analysis) and axes labels.\n",
    "* Save the plotted figures as .pngs."
   ]
  },
  {
   "cell_type": "code",
   "execution_count": 12,
   "metadata": {},
   "outputs": [
    {
     "data": {
      "image/png": "[encoded data removed]",
      "text/plain": [
       "<Figure size 432x288 with 1 Axes>"
      ]
     },
     "metadata": {
      "needs_background": "light"
     },
     "output_type": "display_data"
    }
   ],
   "source": [
    "#Create a scatter plot that shows Latitude vs Temperature.\n",
    "plt.scatter(weatherData[\"Lat\"], weatherData[\"Max Temp\"], marker=\"o\", s=10)\n",
    "\n",
    "#Include other graph data\n",
    "plt.title(\"Latitude vs. Temperature\")\n",
    "plt.ylabel(\"Max. Temperature (F)\")\n",
    "plt.xlabel(\"Latitude\")\n",
    "plt.grid(True)\n",
    "\n",
    "# Show plot\n",
    "plt.show()"
   ]
  },
  {
   "cell_type": "markdown",
   "metadata": {},
   "source": [
    "#### Latitude vs. Temperature Plot"
   ]
  },
  {
   "cell_type": "markdown",
   "metadata": {},
   "source": [
    "#### Latitude vs. Humidity Plot"
   ]
  },
  {
   "cell_type": "code",
   "execution_count": 16,
   "metadata": {},
   "outputs": [
    {
     "data": {
      "image/png": "[encoded data removed]",
      "text/plain": [
       "<Figure size 432x288 with 1 Axes>"
      ]
     },
     "metadata": {
      "needs_background": "light"
     },
     "output_type": "display_data"
    }
   ],
   "source": [
    "# Build a scatter plot for Latitude vs Humidity\n",
    "plt.scatter(weatherData[\"Lat\"], weatherData[\"Humidity\"], marker=\"o\", s=10)\n",
    "\n",
    "# Incorporate the other graph properties\n",
    "plt.title(\"City Latitude vs. Humidity\")\n",
    "plt.ylabel(\"Humidity (%)\")\n",
    "plt.xlabel(\"Latitude\")\n",
    "plt.grid(True)\n",
    "\n",
    "# Show plot\n",
    "plt.show()"
   ]
  },
  {
   "cell_type": "markdown",
   "metadata": {},
   "source": [
    "#### Latitude vs. Cloudiness Plot"
   ]
  },
  {
   "cell_type": "code",
   "execution_count": 17,
   "metadata": {},
   "outputs": [
    {
     "data": {
      "image/png": "[encoded data removed]",
      "text/plain": [
       "<Figure size 432x288 with 1 Axes>"
      ]
     },
     "metadata": {
      "needs_background": "light"
     },
     "output_type": "display_data"
    }
   ],
   "source": [
    "# Build a scatter plot for Latitude vs Cloudiness\n",
    "\n",
    "plt.scatter(weatherData[\"Lat\"], weatherData[\"Cloudiness\"], marker=\"o\", s=10)\n",
    "# Incorporate the other graph properties\n",
    "plt.title(\"City Latitude vs. Cloudiness\")\n",
    "plt.ylabel(\"Cloudiness (%)\")\n",
    "plt.xlabel(\"Latitude\")\n",
    "plt.grid(True)\n",
    "\n",
    "# Show plot\n",
    "plt.show()"
   ]
  },
  {
   "cell_type": "markdown",
   "metadata": {},
   "source": [
    "#### Latitude vs. Wind Speed Plot"
   ]
  },
  {
   "cell_type": "code",
   "execution_count": 19,
   "metadata": {},
   "outputs": [
    {
     "data": {
      "image/png": "[encoded data removed]",
      "text/plain": [
       "<Figure size 432x288 with 1 Axes>"
      ]
     },
     "metadata": {
      "needs_background": "light"
     },
     "output_type": "display_data"
    }
   ],
   "source": [
    "# Build a scatter plot for Latitude vs Wind Speed\n",
    "plt.scatter(weatherData[\"Lat\"], weatherData[\"Wind Speed\"], marker=\"o\", s=10)\n",
    "\n",
    "# Incorporate the other graph properties\n",
    "plt.title(\"City Latitude vs. Wind Speed\")\n",
    "plt.ylabel(\"Wind Speed (mph)\")\n",
    "plt.xlabel(\"Latitude\")\n",
    "plt.grid(True)\n",
    "\n",
    "# Show plot\n",
    "plt.show()"
   ]
  },
  {
   "cell_type": "markdown",
   "metadata": {},
   "source": [
    "## Linear Regression"
   ]
  },
  {
   "cell_type": "code",
   "execution_count": 42,
   "metadata": {},
   "outputs": [],
   "source": [
    "# OPTIONAL: Create a function to create Linear Regression plots\n",
    "# That way you can call your function once.\n",
    "def plotLinReg(x_values, y_values, label):\n",
    "    (slope, intercept, rvalue, pvalue, stderr) = linregress(x_values, y_values)\n",
    "    regress_values = x_values * slope + intercept\n",
    "    line_eq = \"y = \" + str(round(slope,2)) + \"x + \" + str(round(intercept,2))\n",
    "    plt.scatter(x_values,y_values)\n",
    "    plt.plot(x_values,regress_values,\"r-\")\n",
    "    plt.annotate(line_eq,(6,10),fontsize=15,color=\"red\")\n",
    "    plt.xlabel(label)\n",
    "    plt.ylabel('Latitude')\n",
    "    print(f\"The r-squared is: {rvalue}\")\n",
    "    plt.show()"
   ]
  },
  {
   "cell_type": "code",
   "execution_count": 43,
   "metadata": {},
   "outputs": [],
   "source": [
    "# Create Northern and Southern Hemisphere DataFrames\n",
    "#Create a northern hem Data Frame with appropriate columns\n",
    "cityDataNorth = weatherData[weatherData[\"Lat\"] > 0]\n",
    "\n",
    "\n",
    "cloudinessNorth = cityDataNorth[\"Cloudiness\"]\n",
    "humidityNorth = cityDataNorth[\"Humidity\"]\n",
    "latitudeNorth = cityDataNorth[\"Lat\"]\n",
    "maxTempNorth = cityDataNorth[\"Max Temp\"]\n",
    "windSpeedNorth = cityDataNorth[\"Wind Speed\"]\n",
    "\n",
    "#Create a southern hem Data Frame with appropriate columns\n",
    "cityDataSouth = weatherData[weatherData[\"Lat\"] < 0]\n",
    "\n",
    "cloudinessSouth = cityDataSouth[\"Cloudiness\"]\n",
    "humiditySouth = cityDataSouth[\"Humidity\"]\n",
    "latitudeSouth = cityDataSouth[\"Lat\"]\n",
    "maxTempSouth = cityDataSouth[\"Max Temp\"]\n",
    "windSpeedSouth = cityDataSouth[\"Wind Speed\"]\n",
    "\n"
   ]
  },
  {
   "cell_type": "markdown",
   "metadata": {},
   "source": [
    "####  Northern Hemisphere - Max Temp vs. Latitude Linear Regression"
   ]
  },
  {
   "cell_type": "code",
   "execution_count": 47,
   "metadata": {},
   "outputs": [
    {
     "name": "stdout",
     "output_type": "stream",
     "text": [
      "The r-squared is: -0.8758551114116537\n"
     ]
    },
    {
     "data": {
      "image/png": "[encoded data removed]",
      "text/plain": [
       "<Figure size 432x288 with 1 Axes>"
      ]
     },
     "metadata": {
      "needs_background": "light"
     },
     "output_type": "display_data"
    }
   ],
   "source": [
    "#Create a linear regression that correlates the latitude(distance from sun) to the decrease in temperature. Repeat  this step for all other graphs.\n",
    "x_values = maxTempNorth\n",
    "y_values = latitudeNorth\n",
    "label = \"Max Temp\"\n",
    "plotLinReg(x_values, y_values, label)\n"
   ]
  },
  {
   "cell_type": "markdown",
   "metadata": {},
   "source": [
    "####  Southern Hemisphere - Max Temp vs. Latitude Linear Regression"
   ]
  },
  {
   "cell_type": "code",
   "execution_count": 49,
   "metadata": {},
   "outputs": [
    {
     "name": "stdout",
     "output_type": "stream",
     "text": [
      "The r-squared is: 0.4740819196202261\n"
     ]
    },
    {
     "data": {
      "image/png": "[encoded data removed]",
      "text/plain": [
       "<Figure size 432x288 with 1 Axes>"
      ]
     },
     "metadata": {
      "needs_background": "light"
     },
     "output_type": "display_data"
    }
   ],
   "source": [
    "x_values = maxTempSouth\n",
    "y_values = latitudeSouth\n",
    "label = \"Max Temp\"\n",
    "plotLinReg(x_values, y_values, label)"
   ]
  },
  {
   "cell_type": "markdown",
   "metadata": {},
   "source": [
    "####  Northern Hemisphere - Humidity (%) vs. Latitude Linear Regression"
   ]
  },
  {
   "cell_type": "code",
   "execution_count": 51,
   "metadata": {},
   "outputs": [
    {
     "name": "stdout",
     "output_type": "stream",
     "text": [
      "The r-squared is: 0.34180516835097974\n"
     ]
    },
    {
     "data": {
      "image/png": "[encoded data removed]",
      "text/plain": [
       "<Figure size 432x288 with 1 Axes>"
      ]
     },
     "metadata": {
      "needs_background": "light"
     },
     "output_type": "display_data"
    }
   ],
   "source": [
    "x_values = humidityNorth\n",
    "y_values = latitudeNorth\n",
    "label = \"Humidity\"\n",
    "plotLinReg(x_values, y_values, label)"
   ]
  },
  {
   "cell_type": "markdown",
   "metadata": {},
   "source": [
    "####  Southern Hemisphere - Humidity (%) vs. Latitude Linear Regression"
   ]
  },
  {
   "cell_type": "code",
   "execution_count": 55,
   "metadata": {},
   "outputs": [
    {
     "name": "stdout",
     "output_type": "stream",
     "text": [
      "The r-squared is: 0.36104568202359677\n"
     ]
    },
    {
     "data": {
      "image/png": "[encoded data removed]",
      "text/plain": [
       "<Figure size 432x288 with 1 Axes>"
      ]
     },
     "metadata": {
      "needs_background": "light"
     },
     "output_type": "display_data"
    }
   ],
   "source": [
    "x_values = humiditySouth\n",
    "y_values = latitudeSouth\n",
    "label = \"Humidity\"\n",
    "plotLinReg(x_values, y_values, label)"
   ]
  },
  {
   "cell_type": "markdown",
   "metadata": {},
   "source": [
    "####  Northern Hemisphere - Cloudiness (%) vs. Latitude Linear Regression"
   ]
  },
  {
   "cell_type": "code",
   "execution_count": 53,
   "metadata": {},
   "outputs": [
    {
     "name": "stdout",
     "output_type": "stream",
     "text": [
      "The r-squared is: 0.2326725510610712\n"
     ]
    },
    {
     "data": {
      "image/png": "[encoded data removed]",
      "text/plain": [
       "<Figure size 432x288 with 1 Axes>"
      ]
     },
     "metadata": {
      "needs_background": "light"
     },
     "output_type": "display_data"
    }
   ],
   "source": [
    "x_values = cloudinessNorth\n",
    "y_values = latitudeNorth\n",
    "label = \"Cloudiness\"\n",
    "plotLinReg(x_values, y_values, label)"
   ]
  },
  {
   "cell_type": "markdown",
   "metadata": {},
   "source": [
    "####  Southern Hemisphere - Cloudiness (%) vs. Latitude Linear Regression"
   ]
  },
  {
   "cell_type": "code",
   "execution_count": 56,
   "metadata": {},
   "outputs": [
    {
     "name": "stdout",
     "output_type": "stream",
     "text": [
      "The r-squared is: 0.2161457531459882\n"
     ]
    },
    {
     "data": {
      "image/png": "[encoded data removed]",
      "text/plain": [
       "<Figure size 432x288 with 1 Axes>"
      ]
     },
     "metadata": {
      "needs_background": "light"
     },
     "output_type": "display_data"
    }
   ],
   "source": [
    "x_values = cloudinessSouth\n",
    "y_values = latitudeSouth\n",
    "label = \"Cloudiness\"\n",
    "plotLinReg(x_values, y_values, label)"
   ]
  },
  {
   "cell_type": "markdown",
   "metadata": {},
   "source": [
    "####  Northern Hemisphere - Wind Speed (mph) vs. Latitude Linear Regression"
   ]
  },
  {
   "cell_type": "code",
   "execution_count": 59,
   "metadata": {},
   "outputs": [
    {
     "name": "stdout",
     "output_type": "stream",
     "text": [
      "The r-squared is: 0.07054617623836028\n"
     ]
    },
    {
     "data": {
      "image/png": "[encoded data removed]",
      "text/plain": [
       "<Figure size 432x288 with 1 Axes>"
      ]
     },
     "metadata": {
      "needs_background": "light"
     },
     "output_type": "display_data"
    }
   ],
   "source": [
    "x_values = windSpeedNorth\n",
    "y_values = latitudeNorth\n",
    "label = \"Wind Speed\"\n",
    "plotLinReg(x_values, y_values, label)"
   ]
  },
  {
   "cell_type": "markdown",
   "metadata": {},
   "source": [
    "####  Southern Hemisphere - Wind Speed (mph) vs. Latitude Linear Regression"
   ]
  },
  {
   "cell_type": "code",
   "execution_count": 61,
   "metadata": {},
   "outputs": [
    {
     "name": "stdout",
     "output_type": "stream",
     "text": [
      "The r-squared is: -0.3100159476114837\n"
     ]
    },
    {
     "data": {
      "image/png": "[encoded data removed]",
      "text/plain": [
       "<Figure size 432x288 with 1 Axes>"
      ]
     },
     "metadata": {
      "needs_background": "light"
     },
     "output_type": "display_data"
    }
   ],
   "source": [
    "x_values = windSpeedSouth\n",
    "y_values = latitudeSouth\n",
    "label = \"Wind Speed\"\n",
    "plotLinReg(x_values, y_values, label)"
   ]
  },
  {
   "cell_type": "code",
   "execution_count": null,
   "metadata": {},
   "outputs": [],
   "source": []
  }
 ],
 "metadata": {
  "anaconda-cloud": {},
  "kernel_info": {
   "name": "python3"
  },
  "kernelspec": {
   "display_name": "Python 3",
   "language": "python",
   "name": "python3"
  },
  "language_info": {
   "codemirror_mode": {
    "name": "ipython",
    "version": 3
   },
   "file_extension": ".py",
   "mimetype": "text/x-python",
   "name": "python",
   "nbconvert_exporter": "python",
   "pygments_lexer": "ipython3",
   "version": "3.7.4"
  },
  "latex_envs": {
   "LaTeX_envs_menu_present": true,
   "autoclose": false,
   "autocomplete": true,
   "bibliofile": "biblio.bib",
   "cite_by": "apalike",
   "current_citInitial": 1,
   "eqLabelWithNumbers": true,
   "eqNumInitial": 1,
   "hotkeys": {
    "equation": "Ctrl-E",
    "itemize": "Ctrl-I"
   },
   "labels_anchors": false,
   "latex_user_defs": false,
   "report_style_numbering": false,
   "user_envs_cfg": false
  },
  "nteract": {
   "version": "0.12.3"
  }
 },
 "nbformat": 4,
 "nbformat_minor": 2
}
